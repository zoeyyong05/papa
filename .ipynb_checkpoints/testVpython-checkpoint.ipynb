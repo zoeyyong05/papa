{
 "cells": [
  {
   "cell_type": "code",
   "execution_count": null,
   "id": "bd6ccda2-9117-495c-874d-0922baa97739",
   "metadata": {},
   "outputs": [],
   "source": [
    "from vpython import *\n",
    "box()\n",
    "print(\"hello\")"
   ]
  },
  {
   "cell_type": "code",
   "execution_count": null,
   "id": "d5b1f1fd-5e84-49bd-b297-f286f8dc0c41",
   "metadata": {},
   "outputs": [],
   "source": []
  },
  {
   "cell_type": "code",
   "execution_count": null,
   "id": "bb979557-6c5f-49b0-83b9-5364a169400d",
   "metadata": {},
   "outputs": [],
   "source": []
  }
 ],
 "metadata": {
  "kernelspec": {
   "display_name": "Python 3 (ipykernel)",
   "language": "python",
   "name": "python3"
  },
  "language_info": {
   "name": ""
  }
 },
 "nbformat": 4,
 "nbformat_minor": 5
}
