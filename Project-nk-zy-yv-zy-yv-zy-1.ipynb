{
 "cells": [
  {
   "cell_type": "markdown",
   "id": "e688bb19",
   "metadata": {},
   "source": [
    "Source for planet temperature: https://web.njit.edu/~gary/320/Lecture14.html\n",
    "Use: Teq\n",
    "\n",
    "Secondary Source for planetary temperature: https://astronomy.stackexchange.com/questions/29293/how-to-calculate-planetary-equilibrium-temperature-in-binary-systems \n",
    "\n",
    "According to this: https://www.quora.com/What-percentage-of-Earths-heat-comes-from-Earths-core-as-opposed-to-the-Sun, we don't need to consider the heat from the core of the Earth in terms of the habitability of the planet\n",
    "\n",
    "Synchronous tidal locking would create a situation in which only one side of the planet is exposed to the sun\n",
    "This would create problems for life on the planet\n",
    "To avoid this, discard any situations where the planet rotates around its own axis at the same rate that it rotates around the suns.\n",
    "https://en.wikipedia.org/wiki/Tidal_locking\n",
    "\n",
    "Describes how to create a function that makes python solve an equation: https://stackoverflow.com/questions/10499941/how-can-i-solve-equations-in-python\n",
    "\n",
    "Possibly to avoid flying out of orbit- only consider setups that are bound systems"
   ]
  },
  {
   "cell_type": "code",
   "execution_count": 1,
   "id": "5b830b3c",
   "metadata": {},
   "outputs": [
    {
     "ename": "ModuleNotFoundError",
     "evalue": "No module named 'vpython'",
     "output_type": "error",
     "traceback": [
      "\u001b[1;31m---------------------------------------------------------------------------\u001b[0m",
      "\u001b[1;31mModuleNotFoundError\u001b[0m                       Traceback (most recent call last)",
      "\u001b[1;32mc:\\Users\\Zoey Yong\\Downloads\\Project-nk-zy-yv-zy-yv-zy-1.ipynb Cell 2\u001b[0m in \u001b[0;36m<cell line: 2>\u001b[1;34m()\u001b[0m\n\u001b[0;32m      <a href='vscode-notebook-cell:/c%3A/Users/Zoey%20Yong/Downloads/Project-nk-zy-yv-zy-yv-zy-1.ipynb#W1sZmlsZQ%3D%3D?line=0'>1</a>\u001b[0m \u001b[39mfrom\u001b[39;00m \u001b[39mmath\u001b[39;00m \u001b[39mimport\u001b[39;00m \u001b[39m*\u001b[39m\n\u001b[1;32m----> <a href='vscode-notebook-cell:/c%3A/Users/Zoey%20Yong/Downloads/Project-nk-zy-yv-zy-yv-zy-1.ipynb#W1sZmlsZQ%3D%3D?line=1'>2</a>\u001b[0m \u001b[39mfrom\u001b[39;00m \u001b[39mvpython\u001b[39;00m \u001b[39mimport\u001b[39;00m \u001b[39m*\u001b[39m\n\u001b[0;32m      <a href='vscode-notebook-cell:/c%3A/Users/Zoey%20Yong/Downloads/Project-nk-zy-yv-zy-yv-zy-1.ipynb#W1sZmlsZQ%3D%3D?line=2'>3</a>\u001b[0m \u001b[39mfrom\u001b[39;00m \u001b[39mnumpy\u001b[39;00m\u001b[39m.\u001b[39;00m\u001b[39mrandom\u001b[39;00m \u001b[39mimport\u001b[39;00m randint\n",
      "\u001b[1;31mModuleNotFoundError\u001b[0m: No module named 'vpython'"
     ]
    }
   ],
   "source": [
    "from math import *\n",
    "from vpython import *\n",
    "from numpy.random import randint"
   ]
  },
  {
   "cell_type": "code",
   "execution_count": null,
   "id": "56c583a1",
   "metadata": {},
   "outputs": [],
   "source": [
    "#Defining a Function to Make Python Solve Stuff\n",
    "def my_function(c, x, y):\n",
    "    return (-1/(c - y)+2*y/(x*x + y*y)**1.5)\n",
    "\n",
    "def dx(fn, c, x, y, delta=0.001): #x represents sun0_dist and c represents sunfar_dist. this returns the value of \n",
    "    return (fn(c, x, y+delta) - fn(c, x, y))/delta\n",
    "\n",
    "def solve(fn, c, x, value, y, maxtries=10000, maxerr=0.00000001):\n",
    "    for tries in range(maxtries):\n",
    "        err = fn(c, x, y) - value\n",
    "        if abs(err) < maxerr:\n",
    "            return y\n",
    "        slope = dx(fn, c, x, y)\n",
    "        y -= err/slope\n",
    "    raise ValueError('no solution found')\n"
   ]
  },
  {
   "cell_type": "code",
   "execution_count": null,
   "id": "225de454",
   "metadata": {},
   "outputs": [],
   "source": [
    "#y = solve(my_function, 149597870000*8, 149597870000*4, 0)\n",
    "#print(y)"
   ]
  },
  {
   "cell_type": "code",
   "execution_count": null,
   "id": "ab4e0b50",
   "metadata": {
    "scrolled": false
   },
   "outputs": [
    {
     "name": "stdout",
     "output_type": "stream",
     "text": [
      "Lagrange Point:  878099082979\n"
     ]
    },
    {
     "data": {
      "text/html": [
       "<div id=\"glowscript\" class=\"glowscript\"></div>"
      ],
      "text/plain": [
       "<IPython.core.display.HTML object>"
      ]
     },
     "metadata": {},
     "output_type": "display_data"
    },
    {
     "data": {
      "application/javascript": "if (typeof Jupyter !== \"undefined\") { window.__context = { glowscript_container: $(\"#glowscript\").removeAttr(\"id\")};}else{ element.textContent = ' ';}",
      "text/plain": [
       "<IPython.core.display.Javascript object>"
      ]
     },
     "metadata": {},
     "output_type": "display_data"
    },
    {
     "data": {
      "application/javascript": "if (typeof Jupyter !== \"undefined\") {require.undef(\"nbextensions/vpython_libraries/glow.min\");}else{element.textContent = ' ';}",
      "text/plain": [
       "<IPython.core.display.Javascript object>"
      ]
     },
     "metadata": {},
     "output_type": "display_data"
    },
    {
     "data": {
      "application/javascript": "if (typeof Jupyter !== \"undefined\") {require.undef(\"nbextensions/vpython_libraries/glowcomm\");}else{element.textContent = ' ';}",
      "text/plain": [
       "<IPython.core.display.Javascript object>"
      ]
     },
     "metadata": {},
     "output_type": "display_data"
    },
    {
     "data": {
      "application/javascript": "if (typeof Jupyter !== \"undefined\") {require.undef(\"nbextensions/vpython_libraries/jquery-ui.custom.min\");}else{element.textContent = ' ';}",
      "text/plain": [
       "<IPython.core.display.Javascript object>"
      ]
     },
     "metadata": {},
     "output_type": "display_data"
    },
    {
     "data": {
      "application/javascript": "if (typeof Jupyter !== \"undefined\") {require([\"nbextensions/vpython_libraries/glow.min\"], function(){console.log(\"GLOW LOADED\");});}else{element.textContent = ' ';}",
      "text/plain": [
       "<IPython.core.display.Javascript object>"
      ]
     },
     "metadata": {},
     "output_type": "display_data"
    },
    {
     "data": {
      "application/javascript": "if (typeof Jupyter !== \"undefined\") {require([\"nbextensions/vpython_libraries/glowcomm\"], function(){console.log(\"GLOWCOMM LOADED\");});}else{element.textContent = ' ';}",
      "text/plain": [
       "<IPython.core.display.Javascript object>"
      ]
     },
     "metadata": {},
     "output_type": "display_data"
    },
    {
     "data": {
      "application/javascript": "if (typeof Jupyter !== \"undefined\") {require([\"nbextensions/vpython_libraries/jquery-ui.custom.min\"], function(){console.log(\"JQUERY LOADED\");});}else{element.textContent = ' ';}",
      "text/plain": [
       "<IPython.core.display.Javascript object>"
      ]
     },
     "metadata": {},
     "output_type": "display_data"
    },
    {
     "name": "stdout",
     "output_type": "stream",
     "text": [
      "7629.563105461537\n",
      "<0, -2.0766e+21, 0>\n",
      "<0, -9.16172e+20, 0>\n",
      "initial speed: 8746.430525891737\n",
      "Too cold\n",
      "Too cold\n",
      "Too cold\n",
      "years 9364.88\n",
      "days 3418614.7592592593\n",
      "speed 6.1838245771774165\n",
      "temp 2.699999358114223\n"
     ]
    }
   ],
   "source": [
    "#\n",
    "# Needed Constants\n",
    "#\n",
    "#origin_distance = 149597870000*10\n",
    "sun0_dist = 149597870000*4\n",
    "sunfar_dist = 149597870000*10\n",
    "speed_of_earth = 0\n",
    "\n",
    "out_of_range = True\n",
    "while out_of_range == True:\n",
    "    y = solve(my_function, sunfar_dist, sun0_dist, 0, randint(sunfar_dist*.1, sunfar_dist*.9))\n",
    "    if 0 <= y < sunfar_dist:\n",
    "        out_of_range = False\n",
    "        print('Lagrange Point: ', y)\n",
    "\n",
    "# Based on Earth's lowest and highest recorded temps\n",
    "min_temp = 2.7\n",
    "max_temp = 4273.15\n",
    "luminosity = 38*10**25\n",
    "\n",
    "# Use earth's albedo: A = 0.31\n",
    "A = 0.31\n",
    "#\n",
    "# Set up the displays\n",
    "#\n",
    "scene2 = canvas(title='Earth orbiting the Sun',caption='Animated Display',\n",
    "     center=vector(0,0,0), background=color.black)\n",
    "#\n",
    "# Make the radius of each object large enough to see them\n",
    "#\n",
    "\n",
    "earth = sphere(pos=vector(0,y,0),radius=1e11,color=color.green)\n",
    "suns = [sphere(pos=vector(sun0_dist,0,0),radius=1e11,color=color.yellow), sphere(pos=vector(-sun0_dist,0,0),radius=1e11,color=color.yellow), sphere(pos=vector(0,sunfar_dist,0),radius=1e11,color=color.yellow)]\n",
    "sunMass = 1.989e30\n",
    "for sun in suns:\n",
    "    sun.mass = sunMass\n",
    "suns[0].momentum = vector(0,16000,0)*suns[0].mass\n",
    "suns[1].momentum = vector(0,16000,0)*suns[1].mass\n",
    "suns[2].momentum = vector(0,16000,0)*suns[2].mass\n",
    "\n",
    "#\n",
    "G = 6.6743e-11\n",
    "#\n",
    "earth.mass = 5.972e24\n",
    "#\n",
    "#\n",
    "# Create a trail for the earth, and vectors for the force on the earth.\n",
    "# scale should be a number that lets is see the force arrow on the plot.\n",
    "#\n",
    "earth.trail = curve(color=color.magenta)\n",
    "earth.trail.append(pos=earth.pos)\n",
    "\n",
    "totalMass = 3*sun.mass + earth.mass\n",
    "#\n",
    "# COM of suns and earth\n",
    "Rcm = (suns[0].pos*sun.mass + suns[1].pos*sun.mass + suns[2].pos*sun.mass + earth.pos*earth.mass)/(totalMass)\n",
    "#\n",
    "#\n",
    "scale = 3e-13\n",
    "\n",
    "earth.totalTemp = 0\n",
    "totalInitialSunForce = vector(0,0,0)\n",
    "#want to find minimum starting velocity\n",
    "for sun in suns:\n",
    "    sun.initialforce = vector(0,0,0)\n",
    "    sun.initialforce += norm(sun.pos-earth.pos)* -(G* earth.mass * sun.mass / mag(sun.pos-earth.pos)**2)\n",
    "    totalInitialSunForce += sun.initialforce\n",
    "minimum_radius = (luminosity*(1-A)/(16*(773.15)**4))**0.5\n",
    "initial_speed = (abs(mag(earth.pos-Rcm) * (comp(totalInitialSunForce,Rcm))/earth.mass))**.5\n",
    "print(initial_speed)\n",
    "print(sun.initialforce)\n",
    "print(totalInitialSunForce)\n",
    "        \n",
    "earth.momentum = vector(0,0*(initial_speed), 0)*earth.mass\n",
    "# \n",
    "# Initial time is 0, and the time step is twelve hours\n",
    "#\n",
    "time = 0\n",
    "dt =  5*3.154e+4\n",
    "# dt = 3600\n",
    "# \n",
    "# Runs until temperature is out of range or hits a sun\n",
    "#\n",
    "x = True\n",
    "\n",
    "while x:\n",
    "    #print(x)\n",
    "    #rate(200000)\n",
    "#\n",
    "    \n",
    "    days = time/(3600*24)\n",
    "    speed_of_earth = 0\n",
    "    earth.totalTemp = 0\n",
    "    earth.temp = 0\n",
    "#\n",
    "#  Compute the force on the earth using our force function.\n",
    "#\n",
    "    earth.force = vector(0,0,0)\n",
    "    for sun in suns:\n",
    "        earth.force += norm(earth.pos-sun.pos)* -(G* earth.mass * sun.mass / mag(earth.pos-sun.pos)**2)\n",
    "#         earth.totalTemp += 279*(1-A)**(1/4)*(mag(earth.pos-sun.pos)*6.68459e-12)\n",
    "#       Changed to +=\n",
    "        earth.totalTemp += luminosity/(4*pi*mag(earth.pos-sun.pos)**2) * (1-A)/(4*567e-10)\n",
    "        \n",
    "    speed_of_earth = sqrt(mag(earth.force)*mag(Rcm)/earth.mass)\n",
    "    earth.pos = earth.pos + (earth.momentum/earth.mass) * dt\n",
    "    if time == 0 :\n",
    "        print('initial speed:', speed_of_earth)\n",
    "    earth.trail.append(pos=earth.pos)\n",
    "    earth.temp = (earth.totalTemp)**(0.25)\n",
    "    #print(earth.force)\n",
    "    #print('temp now:', earth.temp)\n",
    "    \n",
    "# ???    \n",
    "    for sun in suns:\n",
    "        sun.force = vector(0,0,0)\n",
    "        for sun2 in suns:\n",
    "            if sun != sun2:\n",
    "                sun.force += norm(sun.pos-sun2.pos)*-(G* sun.mass * sun2.mass / mag(sun.pos-sun2.pos)**2) \n",
    "        sun.force += norm(sun.pos-earth.pos)* -(G* earth.mass * sun.mass / mag(sun.pos-earth.pos)**2)\n",
    "        sun.momentum = sun.momentum + sun.force * dt\n",
    "        sun.pos = sun.pos + (sun.momentum/sun.mass) * dt\n",
    "\n",
    "#         it won't crash into the sun? because of temp conditions\n",
    "\n",
    "        if (mag(sun.pos-earth.pos) <= earth.radius ):\n",
    "            print('Earth Crashed into One of the Suns.')\n",
    "            x = False\n",
    "#         if (earth.temp < 0 or earth.temp > 773.15):\n",
    "#             print('Earth is too cold or hot.')\n",
    "#             x = False\n",
    "# THIS WILL ALWAYS BE ONE LOOP BEHIND\n",
    "        if (earth.temp < min_temp):\n",
    "            print('Too cold')\n",
    "            x = False\n",
    "        if (earth.temp > max_temp):\n",
    "            print('Too hot.')\n",
    "            x = False\n",
    "    time += dt        \n",
    "     \n",
    "\n",
    "    \n",
    "#re\n",
    "print('years', (time/3.154e+7))\n",
    "print('days',time/(3600*24))\n",
    "print('speed', speed_of_earth)\n",
    "print('temp', earth.temp)\n"
   ]
  },
  {
   "cell_type": "code",
   "execution_count": null,
   "id": "fa378f89",
   "metadata": {},
   "outputs": [],
   "source": []
  },
  {
   "cell_type": "code",
   "execution_count": null,
   "id": "68273bee",
   "metadata": {},
   "outputs": [],
   "source": []
  }
 ],
 "metadata": {
  "kernelspec": {
   "display_name": "Python 3 (ipykernel)",
   "language": "python",
   "name": "python3"
  },
  "language_info": {
   "codemirror_mode": {
    "name": "ipython",
    "version": 3
   },
   "file_extension": ".py",
   "mimetype": "text/x-python",
   "name": "python",
   "nbconvert_exporter": "python",
   "pygments_lexer": "ipython3",
   "version": "3.9.12"
  }
 },
 "nbformat": 4,
 "nbformat_minor": 5
}
